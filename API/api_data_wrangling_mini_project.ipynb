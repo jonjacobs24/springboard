{
 "cells": [
  {
   "cell_type": "markdown",
   "metadata": {},
   "source": [
    "This exercise will require you to pull some data from the Qunadl API. Qaundl is currently the most widely used aggregator of financial market data."
   ]
  },
  {
   "cell_type": "markdown",
   "metadata": {},
   "source": [
    "As a first step, you will need to register a free account on the http://www.quandl.com website."
   ]
  },
  {
   "cell_type": "markdown",
   "metadata": {},
   "source": [
    "After you register, you will be provided with a unique API key, that you should store:"
   ]
  },
  {
   "cell_type": "code",
   "execution_count": 1,
   "metadata": {},
   "outputs": [],
   "source": [
    "# Store the API key as a string - according to PEP8, constants are always named in all upper case\n",
    "API_KEY = '_CyM685QfyxS5VGmFBV8'"
   ]
  },
  {
   "cell_type": "markdown",
   "metadata": {},
   "source": [
    "Qaundl has a large number of data sources, but, unfortunately, most of them require a Premium subscription. Still, there are also a good number of free datasets."
   ]
  },
  {
   "cell_type": "markdown",
   "metadata": {},
   "source": [
    "For this mini project, we will focus on equities data from the Frankfurt Stock Exhange (FSE), which is available for free. We'll try and analyze the stock prices of a company called Carl Zeiss Meditec, which manufactures tools for eye examinations, as well as medical lasers for laser eye surgery: https://www.zeiss.com/meditec/int/home.html. The company is listed under the stock ticker AFX_X."
   ]
  },
  {
   "cell_type": "markdown",
   "metadata": {},
   "source": [
    "You can find the detailed Quandl API instructions here: https://docs.quandl.com/docs/time-series"
   ]
  },
  {
   "cell_type": "markdown",
   "metadata": {},
   "source": [
    "While there is a dedicated Python package for connecting to the Quandl API, we would prefer that you use the *requests* package, which can be easily downloaded using *pip* or *conda*. You can find the documentation for the package here: http://docs.python-requests.org/en/master/ "
   ]
  },
  {
   "cell_type": "markdown",
   "metadata": {},
   "source": [
    "Finally, apart from the *requests* package, you are encouraged to not use any third party Python packages, such as *pandas*, and instead focus on what's available in the Python Standard Library (the *collections* module might come in handy: https://pymotw.com/3/collections/ ).\n",
    "Also, since you won't have access to DataFrames, you are encouraged to us Python's native data structures - preferably dictionaries, though some questions can also be answered using lists.\n",
    "You can read more on these data structures here: https://docs.python.org/3/tutorial/datastructures.html"
   ]
  },
  {
   "cell_type": "markdown",
   "metadata": {},
   "source": [
    "Keep in mind that the JSON responses you will be getting from the API map almost one-to-one to Python's dictionaries. Unfortunately, they can be very nested, so make sure you read up on indexing dictionaries in the documentation provided above."
   ]
  },
  {
   "cell_type": "code",
   "execution_count": 2,
   "metadata": {},
   "outputs": [],
   "source": [
    "# First, import the relevant modules\n",
    "import requests\n",
    "import json\n",
    "import collections\n"
   ]
  },
  {
   "cell_type": "code",
   "execution_count": 3,
   "metadata": {},
   "outputs": [],
   "source": [
    "# Now, call the Quandl API and pull out a small sample of the data (only one day) to get a glimpse\n",
    "# into the JSON structure that will be returned\n",
    "\n",
    "url = 'https://www.quandl.com/api/v3/datasets/FSE/AFX_X/'\n",
    "    \n",
    "\n",
    "params = {'start_date': '2020-10-07',\n",
    "          'end_date': '2020-10-08',\n",
    "          'api_key': API_KEY,\n",
    "}\n",
    "sample = requests.get(url, params=params)\n"
   ]
  },
  {
   "cell_type": "code",
   "execution_count": 4,
   "metadata": {},
   "outputs": [
    {
     "data": {
      "text/plain": [
       "{'dataset': {'id': 10095370,\n",
       "  'dataset_code': 'AFX_X',\n",
       "  'database_code': 'FSE',\n",
       "  'name': 'Carl Zeiss Meditec (AFX_X)',\n",
       "  'description': 'Stock Prices for Carl Zeiss Meditec (2020-09-24) from the Frankfurt Stock Exchange.<br><br>Trading System: Xetra<br><br>ISIN: DE0005313704',\n",
       "  'refreshed_at': '2020-10-08T22:16:14.249Z',\n",
       "  'newest_available_date': '2020-10-08',\n",
       "  'oldest_available_date': '2000-06-07',\n",
       "  'column_names': ['Date',\n",
       "   'Open',\n",
       "   'High',\n",
       "   'Low',\n",
       "   'Close',\n",
       "   'Change',\n",
       "   'Traded Volume',\n",
       "   'Turnover',\n",
       "   'Last Price of the Day',\n",
       "   'Daily Traded Units',\n",
       "   'Daily Turnover'],\n",
       "  'frequency': 'daily',\n",
       "  'type': 'Time Series',\n",
       "  'premium': False,\n",
       "  'limit': None,\n",
       "  'transform': None,\n",
       "  'column_index': None,\n",
       "  'start_date': '2020-10-07',\n",
       "  'end_date': '2020-10-08',\n",
       "  'data': [['2020-10-08',\n",
       "    113.1,\n",
       "    114.2,\n",
       "    112.5,\n",
       "    114.0,\n",
       "    None,\n",
       "    82897.0,\n",
       "    9427149.9,\n",
       "    None,\n",
       "    None,\n",
       "    None],\n",
       "   ['2020-10-07',\n",
       "    112.1,\n",
       "    112.7,\n",
       "    110.7,\n",
       "    112.3,\n",
       "    None,\n",
       "    147019.0,\n",
       "    16467208.3,\n",
       "    None,\n",
       "    None,\n",
       "    None]],\n",
       "  'collapse': None,\n",
       "  'order': None,\n",
       "  'database_id': 6129}}"
      ]
     },
     "execution_count": 4,
     "metadata": {},
     "output_type": "execute_result"
    }
   ],
   "source": [
    "# Inspect the JSON structure of the object you created, and take note of how nested it is,\n",
    "# as well as the overall structure\n",
    "\n",
    "sample.json()\n"
   ]
  },
  {
   "cell_type": "code",
   "execution_count": null,
   "metadata": {},
   "outputs": [],
   "source": []
  },
  {
   "cell_type": "markdown",
   "metadata": {},
   "source": [
    "These are your tasks for this mini project:\n",
    "\n",
    "1. Collect data from the Franfurt Stock Exchange, for the ticker AFX_X, for the whole year 2017 (keep in mind that the date format is YYYY-MM-DD).\n",
    "2. Convert the returned JSON object into a Python dictionary.\n",
    "3. Calculate what the highest and lowest opening prices were for the stock in this period.\n",
    "4. What was the largest change in any one day (based on High and Low price)?\n",
    "5. What was the largest change between any two days (based on Closing Price)?\n",
    "6. What was the average daily trading volume during this year?\n",
    "7. (Optional) What was the median trading volume during this year. (Note: you may need to implement your own function for calculating the median.)"
   ]
  },
  {
   "cell_type": "code",
   "execution_count": 5,
   "metadata": {},
   "outputs": [],
   "source": [
    "#my api key\n",
    "# import the relevant modules\n",
    "\n",
    "import numpy as np\n",
    "import requests\n",
    "import json\n",
    "import collections\n",
    "\n",
    "API_KEY = '_CyM685QfyxS5VGmFBV8'\n"
   ]
  },
  {
   "cell_type": "code",
   "execution_count": 6,
   "metadata": {},
   "outputs": [],
   "source": [
    "#collecting the data from Quandi for FSE ticker AFX_X\n",
    "\n",
    "#url to query, only querying the stock we're looking in to\n",
    "url = 'https://www.quandl.com/api/v3/datasets/FSE/AFX_X/'\n",
    "\n",
    "#parameters for query\n",
    "params = {'start_date': '2017-01-01',\n",
    "          'end_date': '2017-12-31',\n",
    "          'api_key': API_KEY,\n",
    "        }\n",
    "\n",
    "#Task 1\n",
    "#requesting the API \n",
    "r = requests.get(url, params=params)\n",
    "\n",
    "\n",
    "#Task 2\n",
    "#checking that the request raised no erorrs, if None, puts the json in a dictionary \n",
    "if r.raise_for_status() == None:\n",
    "    d = r.json()['dataset']\n",
    "else:\n",
    "    print(r.raise_for_status())\n",
    "\n",
    "td = np.array(d['data'])"
   ]
  },
  {
   "cell_type": "code",
   "execution_count": 7,
   "metadata": {},
   "outputs": [
    {
     "name": "stdout",
     "output_type": "stream",
     "text": [
      "maximum stock price in 2017 was $53.11, and minimum stock price in 2017 was $34.0\n"
     ]
    }
   ],
   "source": [
    "#task 3\n",
    "#cleaning value data of time series information and creating one np array with all values\n",
    "\n",
    "val = np.array([n[1] for n in td])\n",
    "val = val[val != np.array(None)]\n",
    "\n",
    "print(f'maximum stock price in 2017 was ${np.max(val)}, and minimum stock price in 2017 was ${np.min(val)}')\n"
   ]
  },
  {
   "cell_type": "code",
   "execution_count": 8,
   "metadata": {},
   "outputs": [
    {
     "name": "stdout",
     "output_type": "stream",
     "text": [
      "The largest change in one day is : $2.8100000000000023\n"
     ]
    }
   ],
   "source": [
    "#task 4\n",
    "#cleaning data to find min and max each day\n",
    "\n",
    "val = np.array([n[2:4] for n in td])\n",
    "g_diff = 0\n",
    "\n",
    "for day in val:\n",
    "    day = day[day != np.array(None)]\n",
    "    d = day[0] - day[1]\n",
    "    if d > g_diff:\n",
    "        g_diff = d\n",
    "        \n",
    "\n",
    "print(f'The largest change in one day is : ${g_diff}')"
   ]
  },
  {
   "cell_type": "code",
   "execution_count": 9,
   "metadata": {},
   "outputs": [
    {
     "name": "stdout",
     "output_type": "stream",
     "text": [
      "The largest two day change, closing price to closing price is: $2.559999999999995\n"
     ]
    }
   ],
   "source": [
    "#task 5\n",
    "#cleaning the value data of time series informaiton and just taking closing price\n",
    "\n",
    "val = np.array([n[4] for n in td])\n",
    "val = val[val != np.array(None)]\n",
    "\n",
    "g_diff = 0\n",
    "\n",
    "for i in range(1,len(val)):\n",
    "    d = np.abs(val[i] - val[i-1])\n",
    "    if d > g_diff:\n",
    "        g_diff = d\n",
    "            \n",
    "            \n",
    "print(f'The largest two day change, closing price to closing price is: ${g_diff}')"
   ]
  },
  {
   "cell_type": "code",
   "execution_count": 10,
   "metadata": {},
   "outputs": [
    {
     "name": "stdout",
     "output_type": "stream",
     "text": [
      "The average daily tading volume during 2017 is: 89124.33725490196\n"
     ]
    }
   ],
   "source": [
    "# task 6\n",
    "#average dialy trading volume\n",
    "\n",
    "val = np.array([n[6] for n in td])\n",
    "val = val[val != np.array(None)]\n",
    "\n",
    "print(f'The average daily tading volume during 2017 is: {np.mean(val)}')"
   ]
  },
  {
   "cell_type": "code",
   "execution_count": 11,
   "metadata": {},
   "outputs": [
    {
     "name": "stdout",
     "output_type": "stream",
     "text": [
      "The median daily tading volume during 2017 is: 76286.0\n"
     ]
    }
   ],
   "source": [
    "#task 7\n",
    "\n",
    "val = np.array([n[6] for n in td])\n",
    "val = val[val != np.array(None)]\n",
    "\n",
    "print(f'The median daily tading volume during 2017 is: {np.median(val)}')"
   ]
  }
 ],
 "metadata": {
  "kernelspec": {
   "display_name": "Python 3",
   "language": "python",
   "name": "python3"
  },
  "language_info": {
   "codemirror_mode": {
    "name": "ipython",
    "version": 3
   },
   "file_extension": ".py",
   "mimetype": "text/x-python",
   "name": "python",
   "nbconvert_exporter": "python",
   "pygments_lexer": "ipython3",
   "version": "3.8.3"
  }
 },
 "nbformat": 4,
 "nbformat_minor": 2
}
